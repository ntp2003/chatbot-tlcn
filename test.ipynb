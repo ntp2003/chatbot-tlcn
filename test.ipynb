{
    "cells": [
        {
            "cell_type": "code",
            "execution_count": 1,
            "metadata": {},
            "outputs": [
                {
                    "name": "stdout",
                    "output_type": "stream",
                    "text": [
                        "2025-06-01 07:45:05 - Loaded .env file\n",
                        "2025-06-01 07:45:06 - Warning: Traces will not be logged. Call weave.init to log your traces to a project.\n",
                        " (subsequent messages of this type will be suppressed)\n",
                        "2025-06-01 07:45:06,703 INFO sqlalchemy.engine.Engine select pg_catalog.version()\n",
                        "2025-06-01 07:45:06 - select pg_catalog.version()\n",
                        "2025-06-01 07:45:06,704 INFO sqlalchemy.engine.Engine [raw sql] {}\n",
                        "2025-06-01 07:45:06 - [raw sql] {}\n",
                        "2025-06-01 07:45:06,707 INFO sqlalchemy.engine.Engine select current_schema()\n",
                        "2025-06-01 07:45:06 - select current_schema()\n",
                        "2025-06-01 07:45:06,708 INFO sqlalchemy.engine.Engine [raw sql] {}\n",
                        "2025-06-01 07:45:06 - [raw sql] {}\n",
                        "2025-06-01 07:45:06,711 INFO sqlalchemy.engine.Engine show standard_conforming_strings\n",
                        "2025-06-01 07:45:06 - show standard_conforming_strings\n",
                        "2025-06-01 07:45:06,712 INFO sqlalchemy.engine.Engine [raw sql] {}\n",
                        "2025-06-01 07:45:06 - [raw sql] {}\n",
                        "2025-06-01 07:45:06,716 INFO sqlalchemy.engine.Engine BEGIN (implicit)\n",
                        "2025-06-01 07:45:06 - BEGIN (implicit)\n",
                        "2025-06-01 07:45:06,720 INFO sqlalchemy.engine.Engine SELECT phone_variants.id, phone_variants.phone_id, phone_variants.data, phone_variants.attributes, phone_variants.slug, phone_variants.sku, phone_variants.name, phone_variants.variants, phone_variants.color_tsv, phone_variants.created_at, phone_variants.updated_at, phones.id AS id_1, phones.data AS data_1, phones.name AS name_1, phones.slug AS slug_1, phones.brand_code, phones.product_type, phones.description, phones.promotions, phones.skus, phones.key_selling_points, phones.price, phones.score, phones.name_embedding, phones.created_at AS created_at_1, phones.updated_at AS updated_at_1 \n",
                        "FROM phones JOIN phone_variants ON phones.id = phone_variants.phone_id \n",
                        "WHERE (phone_variants.color_tsv @@ phraseto_tsquery(%(phraseto_tsquery_1)s, %(param_1)s)) AND \n",
                        "            EXISTS (\n",
                        "                SELECT 1 \n",
                        "                FROM unnest(phone_variants.variants) AS variant_json\n",
                        "                WHERE variant_json->>'propertyName' = %(property_name)s \n",
                        "                AND (variant_json->>'value')::numeric >= %(value)s\n",
                        "            )\n",
                        "         AND \n",
                        "            EXISTS (\n",
                        "                SELECT 1 \n",
                        "                FROM unnest(phone_variants.variants) AS variant_json\n",
                        "                WHERE variant_json->>'propertyName' = %(property_name)s \n",
                        "                AND (variant_json->>'value')::numeric <= %(value)s\n",
                        "            )\n",
                        "         AND phones.brand_code = %(brand_code_1)s ORDER BY phones.score DESC \n",
                        " LIMIT %(param_2)s OFFSET %(param_3)s\n",
                        "2025-06-01 07:45:06 - SELECT phone_variants.id, phone_variants.phone_id, phone_variants.data, phone_variants.attributes, phone_variants.slug, phone_variants.sku, phone_variants.name, phone_variants.variants, phone_variants.color_tsv, phone_variants.created_at, phone_variants.updated_at, phones.id AS id_1, phones.data AS data_1, phones.name AS name_1, phones.slug AS slug_1, phones.brand_code, phones.product_type, phones.description, phones.promotions, phones.skus, phones.key_selling_points, phones.price, phones.score, phones.name_embedding, phones.created_at AS created_at_1, phones.updated_at AS updated_at_1 \n",
                        "FROM phones JOIN phone_variants ON phones.id = phone_variants.phone_id \n",
                        "WHERE (phone_variants.color_tsv @@ phraseto_tsquery(%(phraseto_tsquery_1)s, %(param_1)s)) AND \n",
                        "            EXISTS (\n",
                        "                SELECT 1 \n",
                        "                FROM unnest(phone_variants.variants) AS variant_json\n",
                        "                WHERE variant_json->>'propertyName' = %(property_name)s \n",
                        "                AND (variant_json->>'value')::numeric >= %(value)s\n",
                        "            )\n",
                        "         AND \n",
                        "            EXISTS (\n",
                        "                SELECT 1 \n",
                        "                FROM unnest(phone_variants.variants) AS variant_json\n",
                        "                WHERE variant_json->>'propertyName' = %(property_name)s \n",
                        "                AND (variant_json->>'value')::numeric <= %(value)s\n",
                        "            )\n",
                        "         AND phones.brand_code = %(brand_code_1)s ORDER BY phones.score DESC \n",
                        " LIMIT %(param_2)s OFFSET %(param_3)s\n",
                        "2025-06-01 07:45:06,722 INFO sqlalchemy.engine.Engine [generated in 0.00147s] {'phraseto_tsquery_1': 'vietnamese_simple_unaccent', 'param_1': 'luu ly', 'property_name': 'rom', 'value': 128, 'brand_code_1': '9', 'param_2': 4, 'param_3': 0}\n",
                        "2025-06-01 07:45:06 - [generated in 0.00147s] {'phraseto_tsquery_1': 'vietnamese_simple_unaccent', 'param_1': 'luu ly', 'property_name': 'rom', 'value': 128, 'brand_code_1': '9', 'param_2': 4, 'param_3': 0}\n",
                        "2025-06-01 07:45:06,747 INFO sqlalchemy.engine.Engine ROLLBACK\n",
                        "2025-06-01 07:45:06 - ROLLBACK\n",
                        "iPhone 16\n",
                        "  iPhone 16 128GB\n",
                        "    Xanh Lưu Ly - Xanh Lưu Ly\n",
                        "    128 GB - 128\n",
                        "iPhone 16 Plus\n",
                        "  iPhone 16 Plus 128GB\n",
                        "    Xanh Lưu Ly - Xanh Lưu Ly\n",
                        "    128 GB - 128\n"
                    ]
                }
            ],
            "source": [
                "from service.phone import Phone, search, PhoneFilter, NumericConfiguration\n",
                "\n",
                "filter = PhoneFilter(brand_code=\"9\", color=\"luu ly\", rom=NumericConfiguration(min_value=128, max_value=128))\n",
                "phones = search(filter)\n",
                "for phone in phones:\n",
                "    print(f\"{phone.name}\")\n",
                "    for var in phone.phone_variants:\n",
                "        print(f\"  {var.name}\")\n",
                "        for spec in var.variants:\n",
                "            print(f\"    {spec.displayValue} - {spec.value}\")"
            ]
        },
        {
            "cell_type": "code",
            "execution_count": null,
            "metadata": {},
            "outputs": [],
            "source": []
        },
        {
            "cell_type": "code",
            "execution_count": 2,
            "metadata": {},
            "outputs": [
                {
                    "data": {
                        "text/plain": [
                            "<bound method QueryableAttribute.label of <sqlalchemy.orm.attributes.InstrumentedAttribute object at 0x733dd83031a0>>"
                        ]
                    },
                    "execution_count": 2,
                    "metadata": {},
                    "output_type": "execute_result"
                }
            ],
            "source": [
                "from models.phone import Phone\n",
                "\n",
                "Phone.phone_variants.label"
            ]
        }
    ],
    "metadata": {
        "kernelspec": {
            "display_name": "chatbot-tlcn-L8ehHy6a-py3.10",
            "language": "python",
            "name": "python3"
        },
        "language_info": {
            "codemirror_mode": {
                "name": "ipython",
                "version": 3
            },
            "file_extension": ".py",
            "mimetype": "text/x-python",
            "name": "python",
            "nbconvert_exporter": "python",
            "pygments_lexer": "ipython3",
            "version": "3.10.12"
        }
    },
    "nbformat": 4,
    "nbformat_minor": 2
}
