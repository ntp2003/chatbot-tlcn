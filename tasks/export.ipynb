{
 "cells": [
  {
   "cell_type": "code",
   "execution_count": 2,
   "metadata": {},
   "outputs": [],
   "source": [
    "import pandas as pd"
   ]
  },
  {
   "cell_type": "code",
   "execution_count": 4,
   "metadata": {},
   "outputs": [
    {
     "data": {
      "text/html": [
       "<div>\n",
       "<style scoped>\n",
       "    .dataframe tbody tr th:only-of-type {\n",
       "        vertical-align: middle;\n",
       "    }\n",
       "\n",
       "    .dataframe tbody tr th {\n",
       "        vertical-align: top;\n",
       "    }\n",
       "\n",
       "    .dataframe thead th {\n",
       "        text-align: right;\n",
       "    }\n",
       "</style>\n",
       "<table border=\"1\" class=\"dataframe\">\n",
       "  <thead>\n",
       "    <tr style=\"text-align: right;\">\n",
       "      <th></th>\n",
       "      <th>id</th>\n",
       "      <th>title</th>\n",
       "      <th>category</th>\n",
       "      <th>question</th>\n",
       "      <th>answer</th>\n",
       "    </tr>\n",
       "  </thead>\n",
       "  <tbody>\n",
       "    <tr>\n",
       "      <th>0</th>\n",
       "      <td>1</td>\n",
       "      <td>Câu hỏi thường gặp</td>\n",
       "      <td>FAQ</td>\n",
       "      <td>Mua sản phẩm FPT Shop được bảo hành như thế nào?</td>\n",
       "      <td>Để đảm bảo quyền lợi của Quý khách hàng khi mu...</td>\n",
       "    </tr>\n",
       "    <tr>\n",
       "      <th>1</th>\n",
       "      <td>2</td>\n",
       "      <td>Câu hỏi thường gặp</td>\n",
       "      <td>FAQ</td>\n",
       "      <td>Mua sản phẩm tại FPT Shop có được đổi trả khôn...</td>\n",
       "      <td>Đối với các sản phẩm ĐTDĐ, MTB, MTXT, SMARTWAT...</td>\n",
       "    </tr>\n",
       "    <tr>\n",
       "      <th>2</th>\n",
       "      <td>3</td>\n",
       "      <td>Câu hỏi thường gặp</td>\n",
       "      <td>FAQ</td>\n",
       "      <td>FPT Shop có chính sách giao hàng tận nhà không...</td>\n",
       "      <td>FPT Shop cam kết giao hàng toàn bộ 63 tỉnh thà...</td>\n",
       "    </tr>\n",
       "    <tr>\n",
       "      <th>3</th>\n",
       "      <td>4</td>\n",
       "      <td>Câu hỏi thường gặp</td>\n",
       "      <td>FAQ</td>\n",
       "      <td>Làm thế nào để được mua hàng theo chính sách F...</td>\n",
       "      <td>Để được mua hàng và hưởng quyền lợi theo chính...</td>\n",
       "    </tr>\n",
       "    <tr>\n",
       "      <th>4</th>\n",
       "      <td>5</td>\n",
       "      <td>Câu hỏi thường gặp</td>\n",
       "      <td>FAQ</td>\n",
       "      <td>Ưu đãi khi mua hàng theo chính sách F.Friends ?</td>\n",
       "      <td>Nếu đã là hội vtrạngiên của chương trình F.Fri...</td>\n",
       "    </tr>\n",
       "  </tbody>\n",
       "</table>\n",
       "</div>"
      ],
      "text/plain": [
       "   id               title category  \\\n",
       "0   1  Câu hỏi thường gặp      FAQ   \n",
       "1   2  Câu hỏi thường gặp      FAQ   \n",
       "2   3  Câu hỏi thường gặp      FAQ   \n",
       "3   4  Câu hỏi thường gặp      FAQ   \n",
       "4   5  Câu hỏi thường gặp      FAQ   \n",
       "\n",
       "                                            question  \\\n",
       "0   Mua sản phẩm FPT Shop được bảo hành như thế nào?   \n",
       "1  Mua sản phẩm tại FPT Shop có được đổi trả khôn...   \n",
       "2  FPT Shop có chính sách giao hàng tận nhà không...   \n",
       "3  Làm thế nào để được mua hàng theo chính sách F...   \n",
       "4    Ưu đãi khi mua hàng theo chính sách F.Friends ?   \n",
       "\n",
       "                                              answer  \n",
       "0  Để đảm bảo quyền lợi của Quý khách hàng khi mu...  \n",
       "1  Đối với các sản phẩm ĐTDĐ, MTB, MTXT, SMARTWAT...  \n",
       "2  FPT Shop cam kết giao hàng toàn bộ 63 tỉnh thà...  \n",
       "3  Để được mua hàng và hưởng quyền lợi theo chính...  \n",
       "4  Nếu đã là hội vtrạngiên của chương trình F.Fri...  "
      ]
     },
     "execution_count": 4,
     "metadata": {},
     "output_type": "execute_result"
    }
   ],
   "source": [
    "df = pd.read_csv('faqs.csv')\n",
    "df.head()"
   ]
  },
  {
   "cell_type": "code",
   "execution_count": 5,
   "metadata": {},
   "outputs": [],
   "source": [
    "df.to_csv(\"faqs.csv\", index=False, encoding=\"utf-8-sig\")"
   ]
  },
  {
   "cell_type": "code",
   "execution_count": null,
   "metadata": {},
   "outputs": [],
   "source": []
  }
 ],
 "metadata": {
  "kernelspec": {
   "display_name": ".venv",
   "language": "python",
   "name": "python3"
  },
  "language_info": {
   "codemirror_mode": {
    "name": "ipython",
    "version": 3
   },
   "file_extension": ".py",
   "mimetype": "text/x-python",
   "name": "python",
   "nbconvert_exporter": "python",
   "pygments_lexer": "ipython3",
   "version": "3.12.3"
  }
 },
 "nbformat": 4,
 "nbformat_minor": 2
}
