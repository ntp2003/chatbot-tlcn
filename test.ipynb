{
    "cells": [
        {
            "cell_type": "code",
            "execution_count": 3,
            "metadata": {},
            "outputs": [
                {
                    "name": "stderr",
                    "output_type": "stream",
                    "text": [
                        "\u001b[36m\u001b[1mweave\u001b[0m: 📦 Published to https://wandb.ai/tlcn/CHATBOT-TLCN/weave/objects/fine_tune_tone/versions/eYJfzYnjmDfY5WWG8bu7W3X0ab0E3zpBAYNw6bX6ovc\n"
                    ]
                },
                {
                    "data": {
                        "text/plain": [
                            "ObjectRef(entity='tlcn', project='CHATBOT-TLCN', name='fine_tune_tone', _digest='eYJfzYnjmDfY5WWG8bu7W3X0ab0E3zpBAYNw6bX6ovc', _extra=())"
                        ]
                    },
                    "execution_count": 3,
                    "metadata": {},
                    "output_type": "execute_result"
                }
            ],
            "source": [
                "from weave.flow.dataset import Dataset\n",
                "from weave.flow.eval import Evaluation\n",
                "import weave\n",
                "from service.wandb import *\n",
                "results_dataset: Dataset = weave.ref(\"results\").get()\n",
                "fine_tune_tone_models = Dataset(\n",
                "    name=\"fine_tune_tone\",\n",
                "    rows=results_dataset.rows,\n",
                ")\n",
                "weave.publish(fine_tune_tone_models)"
            ]
        },
        {
            "cell_type": "code",
            "execution_count": 4,
            "metadata": {},
            "outputs": [],
            "source": [
                "import datetime\n",
                "\n",
                "current_datetime = datetime.datetime.now()"
            ]
        },
        {
            "cell_type": "code",
            "execution_count": 5,
            "metadata": {},
            "outputs": [
                {
                    "data": {
                        "text/plain": [
                            "'Monday, November 25, 2024 02:21 PM'"
                        ]
                    },
                    "execution_count": 5,
                    "metadata": {},
                    "output_type": "execute_result"
                }
            ],
            "source": [
                "current_datetime.strftime(\"%A, %B %d, %Y %I:%M %p\")"
            ]
        },
        {
            "cell_type": "code",
            "execution_count": null,
            "metadata": {},
            "outputs": [],
            "source": []
        },
        {
            "cell_type": "code",
            "execution_count": 6,
            "metadata": {},
            "outputs": [
                {
                    "data": {
                        "text/plain": [
                            "Job('3b463021-6965-4b3b-93ea-82be26eb8fbb', enqueued_at=datetime.datetime(2024, 12, 2, 14, 35, 52, 519339, tzinfo=datetime.timezone.utc))"
                        ]
                    },
                    "execution_count": 6,
                    "metadata": {},
                    "output_type": "execute_result"
                }
            ],
            "source": [
                "from service.email import create_message, send_message\n",
                "from env import env\n",
                "from db import redis\n",
                "from rq import Queue\n",
                "\n",
                "message = create_message(sender=env.SENDER_EMAIL,\n",
                "        to=env.RECEIVER_EMAIL,subject=\"Test6\",message_text=\"Test\")\n",
                "q = Queue(connection=redis)\n",
                "q.enqueue(send_message, message)"
            ]
        },
        {
            "cell_type": "code",
            "execution_count": 3,
            "metadata": {},
            "outputs": [
                {
                    "name": "stdout",
                    "output_type": "stream",
                    "text": [
                        "Message sent successfully: 1938151136e624d2\n"
                    ]
                }
            ],
            "source": [
                "from service.email import _authenticate_gmail\n",
                "\n",
                "_authenticate_gmail()"
            ]
        }
    ],
    "metadata": {
        "kernelspec": {
            "display_name": "chatbot-tlcn-L8ehHy6a-py3.10",
            "language": "python",
            "name": "python3"
        },
        "language_info": {
            "codemirror_mode": {
                "name": "ipython",
                "version": 3
            },
            "file_extension": ".py",
            "mimetype": "text/x-python",
            "name": "python",
            "nbconvert_exporter": "python",
            "pygments_lexer": "ipython3",
            "version": "3.10.12"
        }
    },
    "nbformat": 4,
    "nbformat_minor": 2
}
