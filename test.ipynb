{
 "cells": [
  {
   "cell_type": "code",
   "execution_count": 1,
   "metadata": {},
   "outputs": [],
   "source": [
    "from typing import Iterable, Optional\n",
    "from uuid import UUID\n",
    "from env import env\n",
    "from openai import NotGiven, OpenAI\n",
    "import json\n",
    "from openai.types.chat import (\n",
    "    ChatCompletionMessageParam,\n",
    "    ChatCompletionToolMessageParam,\n",
    "    ChatCompletionToolParam,\n",
    ")\n",
    "from tools.invoke_tool import invoke\n",
    "\n",
    "\n",
    "_model = \"gpt-4o-mini\"\n",
    "_client = OpenAI(api_key=env.OPENAI_API_KEY, base_url=env.OPENAI_BASE_URL)"
   ]
  },
  {
   "cell_type": "code",
   "execution_count": 67,
   "metadata": {},
   "outputs": [],
   "source": [
    "from datetime import datetime\n",
    "\n",
    "\n",
    "prompt = f\"\"\"\n",
    "# Role\n",
    "You are a professional rewriter.\n",
    "\n",
    "# Goal\n",
    "Your task is to rewrite the user's input more clearly and ensure it includes all necessary components in a complete sentence.\n",
    "\n",
    "## TODAY:\n",
    "Today's date: {datetime.now().strftime(\"%Y-%m-%d\")} (YYYY-MM-DD) (This timeline is for reference only)\n",
    "\n",
    "## Rules\n",
    "- When rewriting, you first need to correct spelling errors and replace abbreviations with their full forms.\n",
    "- If you cannot rewrite the user's input, you only need to return the original sentence.\n",
    "- You only need to return the rewritten sentence without returning anything else.\n",
    "- If the user's input mentions information related to time (such as tomorrow, next week,...) , you must base it on today's date and clearly rewrite this time (by specifying the exact day, month, and year if possible).\n",
    "- The user here acts as a customer participating in a conversation with an online customer service agent of a travel company.\n",
    "- The language of user input is Vietnamese.\n",
    "\n",
    "## Initialization\n",
    "As a/an <Role>, you are required to adhere to the <Goal> and follow the <Rules> strictly.\n",
    "\n",
    "The user's input is: \"Tôi muốn đặt tour tết.\"\n",
    "\"\"\"\n",
    "\n",
    "message: ChatCompletionMessageParam = \\\n",
    "{\n",
    "    \"role\": \"user\",\n",
    "    \"content\": prompt,\n",
    "}"
   ]
  },
  {
   "cell_type": "code",
   "execution_count": 68,
   "metadata": {},
   "outputs": [
    {
     "data": {
      "text/plain": [
       "'Tôi muốn đặt tour cho dịp Tết Nguyên Đán.'"
      ]
     },
     "execution_count": 68,
     "metadata": {},
     "output_type": "execute_result"
    }
   ],
   "source": [
    "_client.chat.completions.create(\n",
    "            messages=[message],\n",
    "            model=_model,\n",
    "            temperature=0,\n",
    "            timeout=30,\n",
    "        ).choices[0].message.content"
   ]
  }
 ],
 "metadata": {
  "kernelspec": {
   "display_name": "chatbot-tlcn-L8ehHy6a-py3.10",
   "language": "python",
   "name": "python3"
  },
  "language_info": {
   "codemirror_mode": {
    "name": "ipython",
    "version": 3
   },
   "file_extension": ".py",
   "mimetype": "text/x-python",
   "name": "python",
   "nbconvert_exporter": "python",
   "pygments_lexer": "ipython3",
   "version": "3.10.14"
  }
 },
 "nbformat": 4,
 "nbformat_minor": 2
}
