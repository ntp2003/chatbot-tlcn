{
 "cells": [
  {
   "cell_type": "markdown",
   "metadata": {},
   "source": [
    "Người dùng nhắn tin thông qua giao diện Chainlit UI hoặc nền tảng Messenger của Facebook\n",
    "\n",
    "Tin nhắn sẽ được chuyển tiếp đến BackEnd để xử lý "
   ]
  }
 ],
 "metadata": {
  "language_info": {
   "name": "python"
  }
 },
 "nbformat": 4,
 "nbformat_minor": 2
}
