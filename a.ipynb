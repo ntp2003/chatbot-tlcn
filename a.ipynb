{
 "cells": [
  {
   "cell_type": "code",
   "execution_count": 16,
   "metadata": {},
   "outputs": [
    {
     "name": "stdout",
     "output_type": "stream",
     "text": [
      "Base invoke called with: () {'key1': 1, 'key2': 'value2'}\n"
     ]
    },
    {
     "data": {
      "text/plain": [
       "<__main__.Base at 0x7fb186ba89a0>"
      ]
     },
     "execution_count": 16,
     "metadata": {},
     "output_type": "execute_result"
    }
   ],
   "source": [
    "class Base:\n",
    "    def invoke(self, *args, **kwargs):\n",
    "        print(\"Base invoke called with:\", args, kwargs)\n",
    "\n",
    "\n",
    "class Child(Base):\n",
    "    def invoke(self, key1, *args, **kwargs):\n",
    "        # Xử lý thêm hoặc thay đổi logic trước khi gọi phương thức của lớp cha\n",
    "        print(\"Child doing additional processing...\")\n",
    "        print(\"Renamed Key1:\", key1)\n",
    "        print(\"Child invoke called with:\", args, kwargs)\n",
    "        # Gọi phương thức của lớp cha với các tham số không tên và có tên\n",
    "        super().invoke(*args, **kwargs)\n",
    "\n",
    "def a(base: Base):\n",
    "    # Xử lý tham số base\n",
    "    base.invoke(key1 = 1, **{\"key2\": \"value2\"})\n",
    "    return base\n",
    "\n",
    "child = Base()\n",
    "a(child)"
   ]
  },
  {
   "cell_type": "code",
   "execution_count": 2,
   "metadata": {},
   "outputs": [
    {
     "name": "stdout",
     "output_type": "stream",
     "text": [
      "Please visit this URL to authorize this application: https://accounts.google.com/o/oauth2/auth?response_type=code&client_id=1046238123460-9tjfjrdougg0t1kj3i53i3itqt67gqd9.apps.googleusercontent.com&redirect_uri=http%3A%2F%2Flocalhost%3A12345%2F&scope=https%3A%2F%2Fwww.googleapis.com%2Fauth%2Fgmail.send&state=84ueroIGFpgi4b6MIRo2uOpELSPOIM&access_type=offline\n"
     ]
    },
    {
     "name": "stderr",
     "output_type": "stream",
     "text": [
      "/usr/bin/xdg-open: 882: x-www-browser: not found\n",
      "/usr/bin/xdg-open: 882: firefox: not found\n",
      "/usr/bin/xdg-open: 882: iceweasel: not found\n",
      "/usr/bin/xdg-open: 882: seamonkey: not found\n",
      "/usr/bin/xdg-open: 882: mozilla: not found\n",
      "/usr/bin/xdg-open: 882: epiphany: not found\n",
      "/usr/bin/xdg-open: 882: konqueror: not found\n",
      "/usr/bin/xdg-open: 882: chromium: not found\n",
      "/usr/bin/xdg-open: 882: chromium-browser: not found\n",
      "/usr/bin/xdg-open: 882: google-chrome: not found\n",
      "/usr/bin/xdg-open: 882: www-browser: not found\n",
      "/usr/bin/xdg-open: 882: links2: not found\n",
      "/usr/bin/xdg-open: 882: elinks: not found\n",
      "/usr/bin/xdg-open: 882: links: not found\n",
      "/usr/bin/xdg-open: 882: lynx: not found\n",
      "/usr/bin/xdg-open: 882: w3m: not found\n",
      "xdg-open: no method available for opening 'https://accounts.google.com/o/oauth2/auth?response_type=code&client_id=1046238123460-9tjfjrdougg0t1kj3i53i3itqt67gqd9.apps.googleusercontent.com&redirect_uri=http%3A%2F%2Flocalhost%3A12345%2F&scope=https%3A%2F%2Fwww.googleapis.com%2Fauth%2Fgmail.send&state=84ueroIGFpgi4b6MIRo2uOpELSPOIM&access_type=offline'\n"
     ]
    },
    {
     "data": {
      "text/plain": [
       "<googleapiclient.discovery.Resource at 0x7fec348dcf40>"
      ]
     },
     "execution_count": 2,
     "metadata": {},
     "output_type": "execute_result"
    }
   ],
   "source": []
  }
 ],
 "metadata": {
  "kernelspec": {
   "display_name": "chatbot-tlcn-L8ehHy6a-py3.10",
   "language": "python",
   "name": "python3"
  },
  "language_info": {
   "codemirror_mode": {
    "name": "ipython",
    "version": 3
   },
   "file_extension": ".py",
   "mimetype": "text/x-python",
   "name": "python",
   "nbconvert_exporter": "python",
   "pygments_lexer": "ipython3",
   "version": "3.10.14"
  }
 },
 "nbformat": 4,
 "nbformat_minor": 2
}
