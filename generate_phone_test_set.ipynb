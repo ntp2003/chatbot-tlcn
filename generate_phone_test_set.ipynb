{
 "cells": [
  {
   "cell_type": "code",
   "execution_count": 2,
   "metadata": {},
   "outputs": [],
   "source": [
    "from deepeval.synthesizer import Synthesizer\n",
    "from deepeval.dataset import Golden\n",
    "from deepeval.synthesizer.config import StylingConfig\n",
    "from repositories.phone import get_all as get_all_phones\n"
   ]
  },
  {
   "cell_type": "code",
   "execution_count": null,
   "metadata": {},
   "outputs": [],
   "source": [
    "phones = get_all_phones()\n",
    "context_format = \"Thông tin về câu hỏi và câu trả lời thường gặp của khách hàng tại FPT Shop:\\nCâu hỏi: {question}\\nCâu trả lời: {answer}\\n\"\n",
    "\n",
    "phone_styling_config = StylingConfig(\n",
    "    input_format=\"Các câu hỏi bằng tiếng Việt liên quan đến sản phẩm, chính sách bảo hành, thanh toán, giao hàng, và dịch vụ tại FPT Shop.\",\n",
    "    expected_output_format=\"Câu trả lời tư vấn rõ ràng, chính xác, thể hiện sự chuyên nghiệp và thân thiện như một nhân viên bán hàng của FPT Shop.\",\n",
    "    task=\"Trả lời các câu hỏi thường gặp của khách hàng về sản phẩm và dịch vụ của FPT Shop nhằm hỗ trợ bán hàng và chăm sóc khách hàng.\",\n",
    "    scenario=\"Khách hàng tiềm năng hoặc khách hàng hiện tại đang cần được giải đáp nhanh chóng về thông tin mua sắm, chính sách và dịch vụ tại FPT Shop.\",\n",
    ")"
   ]
  },
  {
   "cell_type": "code",
   "execution_count": null,
   "metadata": {},
   "outputs": [],
   "source": [
    "class PhoneTestCaseType(str, Enum):\n",
    "    NAME_ONLY = \"name_only\"          # Chỉ hỏi về tên điện thoại cụ thể\n",
    "    BRAND_ONLY = \"brand_only\"        # Hỏi về điện thoại của một hãng\n",
    "    PRICE_ONLY = \"price_only\"        # Hỏi về điện thoại trong khoảng giá\n",
    "    BRAND_PRICE = \"brand_price\"      # Kết hợp hãng và giá\n",
    "    BRAND_NAME = \"brand_name\"        # Kết hợp hãng và tên\n",
    "    PRICE_NAME = \"price_name\"        # Kết hợp giá và tên\n",
    "    ALL_FILTERS = \"all_filters\"      # Kết hợp cả 3 loại filter"
   ]
  },
  {
   "cell_type": "code",
   "execution_count": null,
   "metadata": {},
   "outputs": [],
   "source": [
    "from deepeval.test_case import LLMTestCase\n",
    "from service.phone import search\n",
    "from service.phone import format_phones_to_context\n",
    "from service.phone import PhoneFilter, Config\n",
    "from repositories.phone import PhoneModel\n",
    "import weave\n",
    "\n",
    "@weave.op(name=\"generate_phone_test_case\")\n",
    "def generate_phone_test_cases(base_case: dict) -> list[LLMTestCase]:\n",
    "    # Lấy kết quả thực từ hệ thống\n",
    "    phones = search(base_case[\"filter\"])\n",
    "    \n",
    "    # Tạo context từ kết quả phones\n",
    "    context = format_phones_to_context(phones)\n",
    "    \n",
    "    # Sử dụng synthesizer để tạo các biến thể của câu hỏi\n",
    "    synthesizer = Synthesizer(\n",
    "        model=\"gpt-4o-mini\",\n",
    "        styling_config=PhoneStylingConfig(\n",
    "            input_format=\"Các câu hỏi về điện thoại theo \" + base_case[\"type\"],\n",
    "            expected_output_format=\"Câu trả lời chuyên nghiệp về thông tin điện thoại\",\n",
    "            task=\"Trả lời thông tin về điện thoại theo yêu cầu cụ thể\",\n",
    "            scenario=\"Khách hàng đang tìm kiếm điện thoại với các tiêu chí cụ thể\"\n",
    "        )\n",
    "    )\n",
    "    \n",
    "    return synthesizer.generate_goldens_from_contexts([[context]])"
   ]
  },
  {
   "cell_type": "code",
   "execution_count": null,
   "metadata": {},
   "outputs": [],
   "source": [
    "base_test_cases = [\n",
    "    {\n",
    "        \"type\": PhoneTestCaseType.NAME_ONLY,\n",
    "        \"input\": \"Cho tôi thông tin về iPhone 15 Pro Max\",\n",
    "        \"filter\": PhoneFilter(\n",
    "            name=\"iPhone 15 Pro Max\",\n",
    "            config=Config(is_recommending=False)\n",
    "        )\n",
    "    },\n",
    "    {\n",
    "        \"type\": PhoneTestCaseType.BRAND_PRICE,\n",
    "        \"input\": \"Có điện thoại Samsung nào từ 5 đến 10 triệu không?\",\n",
    "        \"filter\": PhoneFilter(\n",
    "            brand_code=\"samsung\",\n",
    "            min_price=5000000,\n",
    "            max_price=10000000,\n",
    "            config=Config(is_recommending=True)\n",
    "        )\n",
    "    },\n",
    "    # Thêm các test case cơ bản khác\n",
    "]"
   ]
  },
  {
   "cell_type": "code",
   "execution_count": null,
   "metadata": {},
   "outputs": [],
   "source": [
    "def create_ground_truth(phones: list[PhoneModel], test_case_type: PhoneTestCaseType) -> str:\n",
    "    if not phones:\n",
    "        return \"Xin lỗi, hiện tại không có điện thoại nào phù hợp với yêu cầu của bạn.\"\n",
    "    \n",
    "    if test_case_type == PhoneTestCaseType.NAME_ONLY:\n",
    "        phone = phones[0]\n",
    "        return f\"\"\"\n",
    "        {phone.name} có giá {format_price(phone.price)}. \n",
    "        Thông số kỹ thuật chính:\n",
    "        - Màn hình: {phone.screen}\n",
    "        - Camera: {phone.camera}\n",
    "        - Pin: {phone.battery}\n",
    "        - Chip: {phone.chip}\n",
    "        \"\"\"\n",
    "    \n",
    "    if test_case_type in [PhoneTestCaseType.BRAND_PRICE, PhoneTestCaseType.PRICE_ONLY]:\n",
    "        return f\"\"\"\n",
    "        Có {len(phones)} điện thoại phù hợp với yêu cầu của bạn:\n",
    "        {format_phone_list(phones)}\n",
    "        \"\"\"\n",
    "    \n",
    "    # Xử lý các trường hợp khác"
   ]
  },
  {
   "cell_type": "code",
   "execution_count": null,
   "metadata": {},
   "outputs": [],
   "source": [
    "from uuid import uuid4\n",
    "from models.user import UserRole\n",
    "from repositories.user import create as create_user, CreateUserModel\n",
    "from repositories.thread import create as create_thread, CreateThreadModel\n",
    "from service.store_chatbot_v2 import  gen_answer\n",
    "\n",
    "def get_actual_answer(input: str) -> str:\n",
    "    user = create_user(CreateUserModel(user_name=str(uuid4()), role=UserRole.chainlit_user))\n",
    "    thread = create_thread(CreateThreadModel(user_id=user.id, name=user.user_name))\n",
    "    \n",
    "    return gen_answer(\n",
    "        thread_id=thread.id,\n",
    "        history=[{\"role\": \"user\", \"content\": str(input)}],\n",
    "        user_id=user.id,\n",
    "    )\n",
    "    "
   ]
  }
 ],
 "metadata": {
  "kernelspec": {
   "display_name": ".venv",
   "language": "python",
   "name": "python3"
  },
  "language_info": {
   "codemirror_mode": {
    "name": "ipython",
    "version": 3
   },
   "file_extension": ".py",
   "mimetype": "text/x-python",
   "name": "python",
   "nbconvert_exporter": "python",
   "pygments_lexer": "ipython3",
   "version": "3.12.3"
  }
 },
 "nbformat": 4,
 "nbformat_minor": 2
}
