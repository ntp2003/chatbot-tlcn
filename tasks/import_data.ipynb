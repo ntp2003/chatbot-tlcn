{
 "cells": [
  {
   "cell_type": "code",
   "execution_count": null,
   "metadata": {},
   "outputs": [],
   "source": [
    "from import_laptop_data import *\n",
    "from import_phone_data import *\n",
    "from import_accessory_data import extract_fpt_accessories_data, import_accessories_data_jsonl_to_database\n",
    "from import_brand_data import import_json as import_brand_json\n",
    "from import_faq_data import *"
   ]
  },
  {
   "cell_type": "code",
   "execution_count": null,
   "metadata": {},
   "outputs": [],
   "source": [
    "import_brand_json()"
   ]
  }
 ],
 "metadata": {
  "kernelspec": {
   "display_name": ".venv",
   "language": "python",
   "name": "python3"
  },
  "language_info": {
   "name": "python",
   "version": "3.12.3"
  }
 },
 "nbformat": 4,
 "nbformat_minor": 2
}
