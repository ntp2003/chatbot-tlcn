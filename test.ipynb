{
    "cells": [
        {
            "cell_type": "code",
            "execution_count": 1,
            "metadata": {},
            "outputs": [
                {
                    "name": "stdout",
                    "output_type": "stream",
                    "text": [
                        "2025-06-03 10:14:49 - Loaded .env file\n",
                        "2025-06-03 10:14:51 - Warning: Traces will not be logged. Call weave.init to log your traces to a project.\n",
                        " (subsequent messages of this type will be suppressed)\n",
                        "2025-06-03 10:14:52 - HTTP Request: POST https://api.openai.com/v1/embeddings \"HTTP/1.1 200 OK\"\n",
                        "2025-06-03 10:14:52 - HTTP Request: POST https://api.openai.com/v1/embeddings \"HTTP/1.1 200 OK\"\n",
                        "2025-06-03 10:14:52,981 INFO sqlalchemy.engine.Engine select pg_catalog.version()\n",
                        "2025-06-03 10:14:52 - select pg_catalog.version()\n",
                        "2025-06-03 10:14:52,983 INFO sqlalchemy.engine.Engine [raw sql] {}\n",
                        "2025-06-03 10:14:52 - [raw sql] {}\n",
                        "2025-06-03 10:14:52,985 INFO sqlalchemy.engine.Engine select current_schema()\n",
                        "2025-06-03 10:14:52 - select current_schema()\n",
                        "2025-06-03 10:14:52,985 INFO sqlalchemy.engine.Engine [raw sql] {}\n",
                        "2025-06-03 10:14:52 - [raw sql] {}\n",
                        "2025-06-03 10:14:52,987 INFO sqlalchemy.engine.Engine show standard_conforming_strings\n",
                        "2025-06-03 10:14:52 - show standard_conforming_strings\n",
                        "2025-06-03 10:14:52,989 INFO sqlalchemy.engine.Engine [raw sql] {}\n",
                        "2025-06-03 10:14:52 - [raw sql] {}\n",
                        "2025-06-03 10:14:52,990 INFO sqlalchemy.engine.Engine BEGIN (implicit)\n",
                        "2025-06-03 10:14:52 - BEGIN (implicit)\n",
                        "2025-06-03 10:14:53,005 INFO sqlalchemy.engine.Engine SELECT phones.id, phones.data, phones.name, phones.slug, phones.brand_code, phones.product_type, phones.description, phones.promotions, phones.skus, phones.attributes_table_text, phones.variants_table_text, phones.key_selling_points, phones.min_price, phones.max_price, phones.score, phones.name_embedding, phones.created_at, phones.updated_at \n",
                        "FROM phones JOIN (SELECT phones.id AS id, row_number() OVER (ORDER BY (CAST(phones.name_embedding AS VECTOR) <=> %(param_1)s) ASC) AS order_seq \n",
                        "FROM phones JOIN phone_variants ON phones.id = phone_variants.phone_id \n",
                        "WHERE phones.brand_code = %(brand_code_1)s AND (CAST(phones.name_embedding AS VECTOR) <=> %(param_2)s) <= %(param_3)s AND \n",
                        "            EXISTS (\n",
                        "                SELECT 1 \n",
                        "                FROM unnest(phone_variants.variants) AS variant_json\n",
                        "                WHERE variant_json->>'propertyName' = %(property_name)s \n",
                        "                AND (variant_json->>'value')::numeric >= %(value)s\n",
                        "            )\n",
                        "         AND \n",
                        "            EXISTS (\n",
                        "                SELECT 1 \n",
                        "                FROM unnest(phone_variants.variants) AS variant_json\n",
                        "                WHERE variant_json->>'propertyName' = %(property_name)s \n",
                        "                AND (variant_json->>'value')::numeric <= %(value)s\n",
                        "            )\n",
                        "         GROUP BY phones.id \n",
                        " LIMIT %(param_4)s OFFSET %(param_5)s) AS anon_1 ON phones.id = anon_1.id ORDER BY anon_1.order_seq\n",
                        "2025-06-03 10:14:53 - SELECT phones.id, phones.data, phones.name, phones.slug, phones.brand_code, phones.product_type, phones.description, phones.promotions, phones.skus, phones.attributes_table_text, phones.variants_table_text, phones.key_selling_points, phones.min_price, phones.max_price, phones.score, phones.name_embedding, phones.created_at, phones.updated_at \n",
                        "FROM phones JOIN (SELECT phones.id AS id, row_number() OVER (ORDER BY (CAST(phones.name_embedding AS VECTOR) <=> %(param_1)s) ASC) AS order_seq \n",
                        "FROM phones JOIN phone_variants ON phones.id = phone_variants.phone_id \n",
                        "WHERE phones.brand_code = %(brand_code_1)s AND (CAST(phones.name_embedding AS VECTOR) <=> %(param_2)s) <= %(param_3)s AND \n",
                        "            EXISTS (\n",
                        "                SELECT 1 \n",
                        "                FROM unnest(phone_variants.variants) AS variant_json\n",
                        "                WHERE variant_json->>'propertyName' = %(property_name)s \n",
                        "                AND (variant_json->>'value')::numeric >= %(value)s\n",
                        "            )\n",
                        "         AND \n",
                        "            EXISTS (\n",
                        "                SELECT 1 \n",
                        "                FROM unnest(phone_variants.variants) AS variant_json\n",
                        "                WHERE variant_json->>'propertyName' = %(property_name)s \n",
                        "                AND (variant_json->>'value')::numeric <= %(value)s\n",
                        "            )\n",
                        "         GROUP BY phones.id \n",
                        " LIMIT %(param_4)s OFFSET %(param_5)s) AS anon_1 ON phones.id = anon_1.id ORDER BY anon_1.order_seq\n",
                        "2025-06-03 10:14:53,007 INFO sqlalchemy.engine.Engine [generated in 0.00307s] {'param_1': '[-0.0016601820243522525,-0.023947784677147865,0.0062654088251292706,0.00894107110798359,-0.0580655075609684,-0.050898123532533646,-0.0253764186054468 ... (32344 characters truncated) ... 03775910288095,-0.024734744802117348,0.00011539550905581564,-0.018330104649066925,-0.011217200197279453,-0.015061195008456707,-0.0017540117260068655]', 'brand_code_1': '9', 'param_2': '[-0.00019682449055835605,-0.0163818821310997,0.01873084530234337,0.007649341132491827,-0.058127690106630325,-0.04658978432416916,-0.03758339956402778 ... (32344 characters truncated) ... 6633080542087555,-0.022406423464417458,-0.004262818954885006,-0.014617118053138256,-0.008501296862959862,-0.010649440810084343,7.245423330459744e-05]', 'param_3': 0.25, 'property_name': 'rom', 'value': 512, 'param_4': 20, 'param_5': 0}\n",
                        "2025-06-03 10:14:53 - [generated in 0.00307s] {'param_1': '[-0.0016601820243522525,-0.023947784677147865,0.0062654088251292706,0.00894107110798359,-0.0580655075609684,-0.050898123532533646,-0.0253764186054468 ... (32344 characters truncated) ... 03775910288095,-0.024734744802117348,0.00011539550905581564,-0.018330104649066925,-0.011217200197279453,-0.015061195008456707,-0.0017540117260068655]', 'brand_code_1': '9', 'param_2': '[-0.00019682449055835605,-0.0163818821310997,0.01873084530234337,0.007649341132491827,-0.058127690106630325,-0.04658978432416916,-0.03758339956402778 ... (32344 characters truncated) ... 6633080542087555,-0.022406423464417458,-0.004262818954885006,-0.014617118053138256,-0.008501296862959862,-0.010649440810084343,7.245423330459744e-05]', 'param_3': 0.25, 'property_name': 'rom', 'value': 512, 'param_4': 20, 'param_5': 0}\n",
                        "2025-06-03 10:14:53,054 INFO sqlalchemy.engine.Engine ROLLBACK\n",
                        "2025-06-03 10:14:53 - ROLLBACK\n",
                        "iPhone 16 Plus\n",
                        "iPhone 16 Pro\n",
                        "iPhone 14 Plus\n",
                        "iPhone 16 Pro Max\n",
                        "iPhone 16e\n",
                        "iPhone 15 Pro Max\n"
                    ]
                }
            ],
            "source": [
                "from service.phone import Phone, search, PhoneFilter, NumericConfiguration, Config, NumericConfiguration\n",
                "\n",
                "filter = PhoneFilter(brand_code=\"9\",name=\"iphone 16 plus\", rom=NumericConfiguration(min_value=512, max_value=512), config=Config(is_recommending=False, limit = 20))\n",
                "phones = search(filter)\n",
                "for phone in phones:\n",
                "    print(f\"{phone.name}\")\n",
                "    for var in phone.phone_variants:\n",
                "        print(f\"  {var.name}\")\n",
                "        for spec in var.variants:\n",
                "            print(f\"    {spec.displayValue} - {spec.value}\")"
            ]
        },
        {
            "cell_type": "code",
            "execution_count": 2,
            "metadata": {},
            "outputs": [
                {
                    "name": "stdout",
                    "output_type": "stream",
                    "text": [
                        "2025-06-03 10:14:53,064 INFO sqlalchemy.engine.Engine BEGIN (implicit)\n",
                        "2025-06-03 10:14:53 - BEGIN (implicit)\n",
                        "2025-06-03 10:14:53,067 INFO sqlalchemy.engine.Engine SELECT phones.id, phones.data, phones.name, phones.slug, phones.brand_code, phones.product_type, phones.description, phones.promotions, phones.skus, phones.attributes_table_text, phones.variants_table_text, phones.key_selling_points, phones.min_price, phones.max_price, phones.score, phones.name_embedding, phones.created_at, phones.updated_at \n",
                        "FROM phones JOIN phone_variants ON phones.id = phone_variants.phone_id\n",
                        "2025-06-03 10:14:53 - SELECT phones.id, phones.data, phones.name, phones.slug, phones.brand_code, phones.product_type, phones.description, phones.promotions, phones.skus, phones.attributes_table_text, phones.variants_table_text, phones.key_selling_points, phones.min_price, phones.max_price, phones.score, phones.name_embedding, phones.created_at, phones.updated_at \n",
                        "FROM phones JOIN phone_variants ON phones.id = phone_variants.phone_id\n",
                        "2025-06-03 10:14:53,068 INFO sqlalchemy.engine.Engine [generated in 0.00116s] {}\n",
                        "2025-06-03 10:14:53 - [generated in 0.00116s] {}\n",
                        "2025-06-03 10:14:54,694 INFO sqlalchemy.engine.Engine ROLLBACK\n",
                        "2025-06-03 10:14:54 - ROLLBACK\n",
                        "OPPO A78 8GB\n",
                        "OPPO Find N3 Flip 5G 12GB\n",
                        "Tecno Camon 30S\n",
                        "Tecno Spark 30C 4GB\n"
                    ]
                }
            ],
            "source": [
                "from repositories.phone import get_all\n",
                "phones = get_all()[:4]\n",
                "\n",
                "for phone in phones:\n",
                "    print(f\"{phone.name}\")\n",
                "    for var in phone.phone_variants:\n",
                "        print(f\"  {var.name}\")\n",
                "        for spec in var.variants:\n",
                "            print(f\"    {spec.displayValue} - {spec.value}\")"
            ]
        },
        {
            "cell_type": "code",
            "execution_count": 3,
            "metadata": {},
            "outputs": [],
            "source": [
                "# from repositories.phone import get_phone\n",
                "# from evaluate_phone import (\n",
                "#     get_simulated_user,\n",
                "#     VietnameseUserSimulator,\n",
                "#     evaluate_conversation,\n",
                "# )\n",
                "\n",
                "# phone = get_phone(\"063021925721\")\n",
                "# simulated_user = VietnameseUserSimulator.model_validate_json(get_simulated_user(phone))"
            ]
        },
        {
            "cell_type": "code",
            "execution_count": 4,
            "metadata": {},
            "outputs": [
                {
                    "ename": "NameError",
                    "evalue": "name 'simulated_user' is not defined",
                    "output_type": "error",
                    "traceback": [
                        "\u001b[0;31m---------------------------------------------------------------------------\u001b[0m",
                        "\u001b[0;31mNameError\u001b[0m                                 Traceback (most recent call last)",
                        "Cell \u001b[0;32mIn[4], line 1\u001b[0m\n\u001b[0;32m----> 1\u001b[0m \u001b[38;5;28;01mfor\u001b[39;00m i \u001b[38;5;129;01min\u001b[39;00m \u001b[43msimulated_user\u001b[49m\u001b[38;5;241m.\u001b[39mconversation_history:\n\u001b[1;32m      2\u001b[0m     \u001b[38;5;28mprint\u001b[39m(i)\n\u001b[1;32m      4\u001b[0m \u001b[38;5;28;01mfor\u001b[39;00m i \u001b[38;5;129;01min\u001b[39;00m simulated_user\u001b[38;5;241m.\u001b[39mstep_history:\n",
                        "\u001b[0;31mNameError\u001b[0m: name 'simulated_user' is not defined"
                    ]
                }
            ],
            "source": [
                "for i in simulated_user.conversation_history:\n",
                "    print(i)\n",
                "    \n",
                "for i in simulated_user.step_history:\n",
                "    print(f\"{i}\")"
            ]
        },
        {
            "cell_type": "code",
            "execution_count": null,
            "metadata": {},
            "outputs": [],
            "source": [
                "# evaluate_conversation(\n",
                "#     simulated_user\n",
                "# )"
            ]
        }
    ],
    "metadata": {
        "kernelspec": {
            "display_name": "chatbot-tlcn-L8ehHy6a-py3.10",
            "language": "python",
            "name": "python3"
        },
        "language_info": {
            "codemirror_mode": {
                "name": "ipython",
                "version": 3
            },
            "file_extension": ".py",
            "mimetype": "text/x-python",
            "name": "python",
            "nbconvert_exporter": "python",
            "pygments_lexer": "ipython3",
            "version": "3.10.12"
        }
    },
    "nbformat": 4,
    "nbformat_minor": 2
}
