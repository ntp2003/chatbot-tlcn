{
 "cells": [
  {
   "cell_type": "code",
   "execution_count": 1,
   "metadata": {},
   "outputs": [],
   "source": [
    "from service.messenger import Messenger"
   ]
  },
  {
   "cell_type": "code",
   "execution_count": 4,
   "metadata": {},
   "outputs": [],
   "source": [
    "\n",
    "messenger = Messenger()"
   ]
  },
  {
   "cell_type": "code",
   "execution_count": 5,
   "metadata": {},
   "outputs": [
    {
     "data": {
      "text/plain": [
       "{'first_name': 'Phat',\n",
       " 'last_name': 'Nguyen',\n",
       " 'profile_pic': 'https://platform-lookaside.fbsbx.com/platform/profilepic/?eai=AXGYeyg0FXSqYTRDTHrAmpjvl9foRKctgpPzGP45uC6bgE88WYaG2CZMzk7Zsm7v9poGE8iyH6bt&psid=8500488810074527&width=1024&ext=1748358318&hash=AbZXKWoOITzmlsm-4otZRwfT',\n",
       " 'locale': 'vi_VN',\n",
       " 'timezone': 7,\n",
       " 'gender': 'male',\n",
       " 'id': '8500488810074527'}"
      ]
     },
     "execution_count": 5,
     "metadata": {},
     "output_type": "execute_result"
    }
   ],
   "source": [
    "messenger.client.get_user_data(\"8500488810074527\")"
   ]
  },
  {
   "cell_type": "code",
   "execution_count": null,
   "metadata": {},
   "outputs": [],
   "source": []
  }
 ],
 "metadata": {
  "kernelspec": {
   "display_name": "chatbot-tlcn-L8ehHy6a-py3.10",
   "language": "python",
   "name": "python3"
  },
  "language_info": {
   "codemirror_mode": {
    "name": "ipython",
    "version": 3
   },
   "file_extension": ".py",
   "mimetype": "text/x-python",
   "name": "python",
   "nbconvert_exporter": "python",
   "pygments_lexer": "ipython3",
   "version": "3.10.14"
  }
 },
 "nbformat": 4,
 "nbformat_minor": 2
}
