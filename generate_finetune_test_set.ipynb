{
 "cells": [
  {
   "cell_type": "code",
   "execution_count": null,
   "metadata": {},
   "outputs": [],
   "source": [
    "from deepeval.synthesizer import Synthesizer\n",
    "from deepeval.dataset import Golden\n",
    "from deepeval.synthesizer.config import StylingConfig\n",
    "from repositories.faq import  get_all as get_all_faqs\n",
    "\n",
    "faqs = get_all_faqs()\n",
    "context_format = \"Thông tin về câu hỏi và câu trả lời thường gặp của khách hàng tại FPT Shop:\\nCâu hỏi: {question}\\nCâu trả lời: {answer}\\n\"\n",
    "contexts = [context_format.format(question=faq.question, answer=faq.answer) for faq in faqs]\n",
    "\n",
    "styling_config = StylingConfig(\n",
    "    input_format=\"Các câu hỏi bằng tiếng Việt liên quan đến sản phẩm, chính sách bảo hành, thanh toán, giao hàng, và dịch vụ tại FPT Shop.\",\n",
    "    expected_output_format=\"Câu trả lời tư vấn rõ ràng, chính xác, thể hiện sự chuyên nghiệp và thân thiện như một nhân viên bán hàng của FPT Shop.\",\n",
    "    task=\"Trả lời các câu hỏi thường gặp của khách hàng về sản phẩm và dịch vụ của FPT Shop nhằm hỗ trợ bán hàng và chăm sóc khách hàng.\",\n",
    "    scenario=\"Khách hàng tiềm năng hoặc khách hàng hiện tại đang cần được giải đáp nhanh chóng về thông tin mua sắm, chính sách và dịch vụ tại FPT Shop.\",\n",
    ")\n",
    "\n"
   ]
  },
  {
   "cell_type": "code",
   "execution_count": null,
   "metadata": {},
   "outputs": [],
   "source": [
    "synthesizer = Synthesizer(\n",
    "    model=\"gpt-4o-mini\",\n",
    "    max_concurrent=10,\n",
    "    cost_tracking=True,\n",
    "    styling_config=styling_config,\n",
    ")\n",
    "# generate test set with gpt-4o-mini in goldens.json\n",
    "goldens = synthesizer.generate_goldens_from_contexts(\n",
    "    contexts=[[context] for context in contexts],\n",
    ")"
   ]
  },
  {
   "cell_type": "code",
   "execution_count": null,
   "metadata": {},
   "outputs": [],
   "source": []
  }
 ],
 "metadata": {
  "kernelspec": {
   "display_name": ".venv",
   "language": "python",
   "name": "python3"
  },
  "language_info": {
   "name": "python",
   "version": "3.12.3"
  }
 },
 "nbformat": 4,
 "nbformat_minor": 2
}
